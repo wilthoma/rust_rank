{
 "cells": [
  {
   "cell_type": "code",
   "execution_count": 9,
   "id": "dbbf1e6f-6e6a-4da5-91a0-cd3889fd2135",
   "metadata": {},
   "outputs": [
    {
     "name": "stdout",
     "output_type": "stream",
     "text": [
      "50 23\n",
      "50 29\n",
      "51 6\n",
      "51 25\n",
      "51 29\n",
      "51 34\n",
      "51 41\n",
      "52 21\n",
      "53 2\n",
      "53 36\n",
      "53 38\n",
      "53 42\n",
      "53 47\n",
      "54 33\n",
      "54 45\n",
      "55 1\n",
      "55 9\n",
      "55 13\n",
      "55 19\n",
      "55 34\n",
      "55 51\n",
      "57 3\n",
      "57 7\n",
      "57 10\n",
      "57 40\n",
      "57 46\n",
      "57 55\n",
      "59 14\n",
      "59 47\n",
      "60 5\n",
      "60 33\n",
      "60 41\n",
      "61 6\n",
      "61 51\n",
      "62 21\n",
      "63 19\n",
      "63 23\n"
     ]
    }
   ],
   "source": [
    "for p in range(50,65) :\n",
    "    for q in range(1,p-1):\n",
    "        if (2**p + 2**q+1).is_prime():\n",
    "            print(p,q)\n",
    "        if (2**p - 2**q+1).is_prime():\n",
    "            print(p,q)"
   ]
  },
  {
   "cell_type": "code",
   "execution_count": 5,
   "id": "04df2eb9-0e4b-4cc3-a66c-6c66cd0e9fda",
   "metadata": {},
   "outputs": [
    {
     "data": {
      "text/plain": [
       "1"
      ]
     },
     "execution_count": 5,
     "metadata": {},
     "output_type": "execute_result"
    }
   ],
   "source": [
    "1"
   ]
  },
  {
   "cell_type": "code",
   "execution_count": 10,
   "id": "32d74e21-c3d6-4338-87be-e50fd83a357a",
   "metadata": {},
   "outputs": [
    {
     "data": {
      "text/plain": [
       "True"
      ]
     },
     "execution_count": 10,
     "metadata": {},
     "output_type": "execute_result"
    }
   ],
   "source": [
    "(2**64 - 2**32+1).is_prime()"
   ]
  },
  {
   "cell_type": "code",
   "execution_count": null,
   "id": "5863d8af-757a-4c0b-bab8-a30d34a3de32",
   "metadata": {},
   "outputs": [],
   "source": []
  }
 ],
 "metadata": {
  "kernelspec": {
   "display_name": "SageMath 10.4",
   "language": "sage",
   "name": "sagemath-10.4"
  },
  "language_info": {
   "codemirror_mode": {
    "name": "ipython",
    "version": 3
   },
   "file_extension": ".py",
   "mimetype": "text/x-python",
   "name": "python",
   "nbconvert_exporter": "python",
   "pygments_lexer": "ipython3",
   "version": "3.12.4"
  }
 },
 "nbformat": 4,
 "nbformat_minor": 5
}
