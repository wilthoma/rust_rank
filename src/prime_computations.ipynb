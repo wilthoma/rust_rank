{
 "cells": [
  {
   "cell_type": "code",
   "execution_count": 11,
   "id": "dbbf1e6f-6e6a-4da5-91a0-cd3889fd2135",
   "metadata": {},
   "outputs": [
    {
     "name": "stdout",
     "output_type": "stream",
     "text": [
      "50 14\n",
      "50 23\n",
      "50 29\n",
      "50 38\n",
      "50 44\n",
      "51 6\n",
      "51 9\n",
      "51 17\n",
      "51 25\n",
      "51 29\n",
      "51 34\n",
      "51 41\n",
      "52 12\n",
      "52 20\n",
      "52 21\n",
      "52 48\n",
      "53 2\n",
      "53 9\n",
      "53 34\n",
      "53 36\n",
      "53 38\n",
      "53 42\n",
      "53 47\n",
      "53 50\n",
      "54 8\n",
      "54 24\n",
      "54 30\n",
      "54 33\n",
      "54 38\n",
      "54 45\n",
      "55 1\n",
      "55 7\n",
      "55 9\n",
      "55 9\n",
      "55 13\n",
      "55 19\n",
      "55 29\n",
      "55 34\n",
      "55 51\n",
      "55 52\n",
      "56 20\n",
      "56 24\n",
      "56 32\n",
      "57 3\n",
      "57 7\n",
      "57 10\n",
      "57 18\n",
      "57 38\n",
      "57 40\n",
      "57 46\n",
      "57 55\n",
      "58 6\n",
      "58 34\n",
      "59 11\n",
      "59 12\n",
      "59 13\n",
      "59 14\n",
      "59 28\n",
      "59 35\n",
      "59 45\n",
      "59 47\n",
      "59 48\n",
      "60 5\n",
      "60 14\n",
      "60 18\n",
      "60 33\n",
      "60 41\n",
      "61 1\n",
      "61 5\n",
      "61 6\n",
      "61 21\n",
      "61 24\n",
      "61 26\n",
      "61 51\n",
      "61 54\n",
      "62 16\n",
      "62 21\n",
      "62 46\n",
      "63 19\n",
      "63 23\n",
      "63 41\n",
      "63 45\n",
      "64 10\n",
      "64 12\n",
      "64 24\n",
      "64 32\n",
      "64 34\n",
      "64 40\n"
     ]
    }
   ],
   "source": [
    "for p in range(50,65) :\n",
    "    for q in range(1,p-1):\n",
    "        if (2**p + 2**q+1).is_prime():\n",
    "            print(p,q)\n",
    "        if (2**p - 2**q+1).is_prime():\n",
    "            print(p,q)"
   ]
  },
  {
   "cell_type": "code",
   "execution_count": 25,
   "id": "ba402df7-cf45-43f6-88eb-804281fb1e7a",
   "metadata": {},
   "outputs": [
    {
     "data": {
      "text/plain": [
       "7"
      ]
     },
     "execution_count": 25,
     "metadata": {},
     "output_type": "execute_result"
    }
   ],
   "source": [
    "GF(2**64-2**32+1).multiplicative_generator()\n"
   ]
  },
  {
   "cell_type": "code",
   "execution_count": 5,
   "id": "04df2eb9-0e4b-4cc3-a66c-6c66cd0e9fda",
   "metadata": {},
   "outputs": [
    {
     "data": {
      "text/plain": [
       "1"
      ]
     },
     "execution_count": 5,
     "metadata": {},
     "output_type": "execute_result"
    }
   ],
   "source": [
    "1"
   ]
  },
  {
   "cell_type": "code",
   "execution_count": 10,
   "id": "32d74e21-c3d6-4338-87be-e50fd83a357a",
   "metadata": {},
   "outputs": [
    {
     "data": {
      "text/plain": [
       "True"
      ]
     },
     "execution_count": 10,
     "metadata": {},
     "output_type": "execute_result"
    }
   ],
   "source": [
    "(2**64 - 2**32+1).is_prime()"
   ]
  },
  {
   "cell_type": "code",
   "execution_count": 12,
   "id": "5863d8af-757a-4c0b-bab8-a30d34a3de32",
   "metadata": {},
   "outputs": [],
   "source": [
    "K=GF(2**62-2**46+1)"
   ]
  },
  {
   "cell_type": "code",
   "execution_count": 13,
   "id": "20d07f9a-5a32-49f2-9ef0-8b14b78df313",
   "metadata": {},
   "outputs": [
    {
     "data": {
      "text/plain": [
       "4611615649683210241"
      ]
     },
     "execution_count": 13,
     "metadata": {},
     "output_type": "execute_result"
    }
   ],
   "source": [
    "K.order()"
   ]
  },
  {
   "cell_type": "code",
   "execution_count": 14,
   "id": "292aa0c7-4c3a-4e7a-b7d4-44b5c1f5781c",
   "metadata": {},
   "outputs": [
    {
     "data": {
      "text/plain": [
       "11"
      ]
     },
     "execution_count": 14,
     "metadata": {},
     "output_type": "execute_result"
    }
   ],
   "source": [
    "K.multiplicative_generator()"
   ]
  },
  {
   "cell_type": "code",
   "execution_count": 15,
   "id": "bb727753-bcc8-45d8-baf5-684aced90aff",
   "metadata": {},
   "outputs": [],
   "source": [
    "p = 2**62-2**46+1"
   ]
  },
  {
   "cell_type": "code",
   "execution_count": 20,
   "id": "27eb36b3-e312-4c65-812f-73b16d1f7ed7",
   "metadata": {},
   "outputs": [
    {
     "name": "stdout",
     "output_type": "stream",
     "text": [
      "2\n",
      "4\n",
      "8\n",
      "16\n",
      "32\n",
      "64\n",
      "128\n",
      "256\n",
      "512\n",
      "1024\n",
      "2048\n",
      "4096\n",
      "8192\n",
      "16384\n",
      "32768\n",
      "65536\n",
      "131072\n",
      "262144\n",
      "524288\n",
      "1048576\n",
      "2097152\n",
      "4194304\n",
      "8388608\n",
      "16777216\n",
      "33554432\n",
      "67108864\n",
      "134217728\n",
      "268435456\n",
      "536870912\n",
      "1073741824\n",
      "2147483648\n",
      "4294967296\n",
      "8589934592\n",
      "17179869184\n",
      "34359738368\n",
      "68719476736\n",
      "137438953472\n",
      "274877906944\n",
      "549755813888\n",
      "1099511627776\n",
      "2199023255552\n",
      "4398046511104\n",
      "8796093022208\n",
      "17592186044416\n",
      "35184372088832\n",
      "70368744177664\n",
      "140737488355328\n",
      "281474976710656\n",
      "562949953421312\n",
      "1125899906842624\n",
      "2251799813685248\n",
      "4503599627370496\n",
      "9007199254740992\n",
      "18014398509481984\n",
      "36028797018963968\n",
      "72057594037927936\n",
      "144115188075855872\n",
      "288230376151711744\n",
      "576460752303423488\n",
      "1152921504606846976\n",
      "2305843009213693952\n",
      "70368744177663\n",
      "140737488355326\n",
      "281474976710652\n",
      "562949953421304\n",
      "1125899906842608\n",
      "2251799813685216\n",
      "4503599627370432\n",
      "9007199254740864\n",
      "18014398509481728\n",
      "36028797018963456\n",
      "72057594037926912\n",
      "144115188075853824\n",
      "288230376151707648\n",
      "576460752303415296\n",
      "1152921504606830592\n",
      "2305843009213661184\n",
      "70368744112127\n",
      "140737488224254\n",
      "281474976448508\n",
      "562949952897016\n",
      "1125899905794032\n",
      "2251799811588064\n",
      "4503599623176128\n",
      "9007199246352256\n",
      "18014398492704512\n",
      "36028796985409024\n",
      "72057593970818048\n",
      "144115187941636096\n",
      "288230375883272192\n",
      "576460751766544384\n",
      "1152921503533088768\n",
      "2305843007066177536\n",
      "70364449144831\n",
      "140728898289662\n",
      "281457796579324\n",
      "562915593158648\n",
      "1125831186317296\n",
      "2251662372634592\n",
      "4503324745269184\n",
      "9006649490538368\n",
      "18013298981076736\n",
      "36026597962153472\n",
      "72053195924306944\n",
      "144106391848613888\n",
      "288212783697227776\n",
      "576425567394455552\n",
      "1152851134788911104\n",
      "2305702269577822208\n",
      "4611404539155644416\n",
      "4611193428628078591\n",
      "4610771207572946941\n",
      "4609926765462683641\n",
      "4608237881242157041\n",
      "4604860112801103841\n",
      "4598104575918997441\n",
      "4584593502154784641\n",
      "4557571354626359041\n",
      "4503527059569507841\n"
     ]
    }
   ],
   "source": [
    "for i in range(1, 120):\n",
    "    print(2**i % p)"
   ]
  },
  {
   "cell_type": "code",
   "execution_count": 21,
   "id": "7fb8bbf9-6900-45b7-aad3-2443700c8ea1",
   "metadata": {},
   "outputs": [
    {
     "data": {
      "text/plain": [
       "33554432"
      ]
     },
     "execution_count": 21,
     "metadata": {},
     "output_type": "execute_result"
    }
   ],
   "source": [
    "2**25"
   ]
  },
  {
   "cell_type": "code",
   "execution_count": 22,
   "id": "53d4d53d-df03-42b5-ab2c-be9c7f806c5d",
   "metadata": {},
   "outputs": [
    {
     "data": {
      "text/plain": [
       "31"
      ]
     },
     "execution_count": 22,
     "metadata": {},
     "output_type": "execute_result"
    }
   ],
   "source": [
    "GF(2013265921).multiplicative_generator()"
   ]
  },
  {
   "cell_type": "code",
   "execution_count": 29,
   "id": "32eeb607-944e-4dc8-9a82-dd11e01d4073",
   "metadata": {},
   "outputs": [
    {
     "data": {
      "text/plain": [
       "-154742502600325925655543807/2305843009213693952"
      ]
     },
     "execution_count": 29,
     "metadata": {},
     "output_type": "execute_result"
    }
   ],
   "source": [
    "((2^61 -2^26 +1)^2 / 2^96) * 2^35 - (2^61 -2^26 +1)"
   ]
  },
  {
   "cell_type": "code",
   "execution_count": null,
   "id": "74a6f579-1a9e-4eb1-948a-9023ebe3d70c",
   "metadata": {},
   "outputs": [],
   "source": []
  }
 ],
 "metadata": {
  "kernelspec": {
   "display_name": "SageMath 10.4",
   "language": "sage",
   "name": "sagemath-10.4"
  },
  "language_info": {
   "codemirror_mode": {
    "name": "ipython",
    "version": 3
   },
   "file_extension": ".py",
   "mimetype": "text/x-python",
   "name": "python",
   "nbconvert_exporter": "python",
   "pygments_lexer": "ipython3",
   "version": "3.12.4"
  }
 },
 "nbformat": 4,
 "nbformat_minor": 5
}
